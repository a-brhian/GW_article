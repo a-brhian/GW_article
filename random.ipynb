{
  "cells": [
    {
      "cell_type": "markdown",
      "metadata": {
        "id": "view-in-github",
        "colab_type": "text"
      },
      "source": [
        "<a href=\"https://colab.research.google.com/github/a-brhian/GW_article/blob/main/random.ipynb\" target=\"_parent\"><img src=\"https://colab.research.google.com/assets/colab-badge.svg\" alt=\"Open In Colab\"/></a>"
      ]
    },
    {
      "cell_type": "markdown",
      "id": "aeda4b68",
      "metadata": {
        "id": "aeda4b68"
      },
      "source": [
        "fuente:\n",
        "https://notebook.community/relopezbriega/mi-python-blog/content/notebooks/MCpy"
      ]
    },
    {
      "cell_type": "markdown",
      "id": "1bb4a86a",
      "metadata": {
        "id": "1bb4a86a"
      },
      "source": [
        "# números aleatorios"
      ]
    },
    {
      "cell_type": "code",
      "execution_count": null,
      "id": "14b37a31",
      "metadata": {
        "id": "14b37a31",
        "outputId": "64370f82-7971-47ac-bd94-333433f5798c"
      },
      "outputs": [
        {
          "data": {
            "text/plain": [
              "0.40024153026616704"
            ]
          },
          "execution_count": 1,
          "metadata": {},
          "output_type": "execute_result"
        }
      ],
      "source": [
        "# Utilizando random para generar números aleatorios.\n",
        "import random\n",
        "\n",
        "random.random() # primer llamado a random"
      ]
    },
    {
      "cell_type": "code",
      "execution_count": null,
      "id": "5c1744fe-af05-4227-a713-c34fb8802163",
      "metadata": {
        "id": "5c1744fe-af05-4227-a713-c34fb8802163",
        "outputId": "4db66213-cbf8-4177-ad6b-0aa6d935a5f7"
      },
      "outputs": [
        {
          "data": {
            "text/plain": [
              "0.36352835585530807"
            ]
          },
          "execution_count": 5,
          "metadata": {},
          "output_type": "execute_result"
        }
      ],
      "source": [
        "random.seed(1984) # semilla para replicar la aleatoriedad\n",
        "random.random() # primer llamado a random"
      ]
    },
    {
      "cell_type": "code",
      "execution_count": null,
      "id": "dfd60192",
      "metadata": {
        "id": "dfd60192",
        "outputId": "b80461b7-d59e-4918-ce5e-bdfdadf820a0"
      },
      "outputs": [
        {
          "name": "stdout",
          "output_type": "stream",
          "text": [
            "0.49420568181919666\n",
            "0.33961008717180197\n",
            "0.21648780903913534\n",
            "0.8626522767441037\n",
            "0.8493329421213219\n"
          ]
        }
      ],
      "source": [
        "for i in range(5):\n",
        "    print(random.random()) # 5 números aleatorios"
      ]
    },
    {
      "cell_type": "code",
      "execution_count": null,
      "id": "5fd4e838",
      "metadata": {
        "id": "5fd4e838",
        "outputId": "9d40049f-aa03-4b6c-f041-d2ae526a1bfe"
      },
      "outputs": [
        {
          "name": "stdout",
          "output_type": "stream",
          "text": [
            "0.36352835585530807\n",
            "0.49420568181919666\n",
            "0.33961008717180197\n",
            "0.21648780903913534\n",
            "0.8626522767441037\n",
            "0.8493329421213219\n"
          ]
        }
      ],
      "source": [
        "# volviendo a llamar usando la semilla para replicar el mismo resultado aleatorio.\n",
        "random.seed(1984)\n",
        "for i in range(6):\n",
        "    print(random.random()) # Mismos resultados que arriba."
      ]
    },
    {
      "cell_type": "code",
      "execution_count": null,
      "id": "e24e1c9a-78c3-4e68-983a-6a7f095d7026",
      "metadata": {
        "id": "e24e1c9a-78c3-4e68-983a-6a7f095d7026"
      },
      "outputs": [],
      "source": []
    }
  ],
  "metadata": {
    "kernelspec": {
      "display_name": "Python 3 (ipykernel)",
      "language": "python",
      "name": "python3"
    },
    "language_info": {
      "codemirror_mode": {
        "name": "ipython",
        "version": 3
      },
      "file_extension": ".py",
      "mimetype": "text/x-python",
      "name": "python",
      "nbconvert_exporter": "python",
      "pygments_lexer": "ipython3",
      "version": "3.10.12"
    },
    "colab": {
      "provenance": [],
      "include_colab_link": true
    }
  },
  "nbformat": 4,
  "nbformat_minor": 5
}